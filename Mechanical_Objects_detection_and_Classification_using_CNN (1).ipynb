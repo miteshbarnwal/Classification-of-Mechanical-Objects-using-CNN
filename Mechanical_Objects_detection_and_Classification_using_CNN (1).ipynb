{
  "nbformat": 4,
  "nbformat_minor": 0,
  "metadata": {
    "colab": {
      "name": "Mechanical Objects detection and Classification using CNN",
      "provenance": [],
      "collapsed_sections": []
    },
    "kernelspec": {
      "display_name": "Python 3",
      "name": "python3"
    }
  },
  "cells": [
    {
      "cell_type": "code",
      "metadata": {
        "id": "jBGlRVDZ3_aq"
      },
      "source": [
        "import tensorflow as tf"
      ],
      "execution_count": null,
      "outputs": []
    },
    {
      "cell_type": "code",
      "metadata": {
        "colab": {
          "base_uri": "https://localhost:8080/"
        },
        "id": "tbev6R8xADIe",
        "outputId": "0d95906f-56e8-4058-a478-fbdd9a83c3a0"
      },
      "source": [
        "from google.colab import drive \n",
        "drive.mount('/content/drive')"
      ],
      "execution_count": null,
      "outputs": [
        {
          "output_type": "stream",
          "text": [
            "Mounted at /content/drive\n"
          ],
          "name": "stdout"
        }
      ]
    },
    {
      "cell_type": "code",
      "metadata": {
        "id": "10KYdqhHJHj2"
      },
      "source": [
        "from PIL import Image\n",
        "#PIL is a package and Image is its module\n",
        "from skimage.io import imread\n",
        "#Scikit-image, or skimage, is an open source Python package designed for image preprocessing.\n",
        "#First, we import the io module of skimage ( skimage.io ) so that we can read and write images.\n",
        "#Then, we use the skimage. io. imread() function to read a JPEG image\n",
        "#imshow function here to view the image in the notebook itself\n",
        "#What if you want to load an image from your machine instead of the ones provided in the package?\n",
        "#For this, we can use the imread function from skimage.\n",
        "from skimage.transform import rescale, resize\n",
        "#Difference between rescale and resize\n",
        "import os\n",
        "#What is os module\n",
        "#The OS module in python provides functions for interacting with the operating system. OS, comes under Python’s standard utility modules. \n",
        "#This module provides a portable way of using operating system dependent functionality. \n",
        "#The *os* and *os.path* modules include many functions to interact with the file system.\n",
        "import glob\n",
        "#What is glob module\n",
        "#In Python, the glob module is used to retrieve files/pathnames matching a specified pattern. \n",
        "#The pattern rules of glob follow standard Unix path expansion rules. \n",
        "#It is also predicted that according to benchmarks it is faster than other methods to match pathnames in directories. \n",
        "#With glob, we can also use wildcards (\"*, ?, [ranges]) apart from exact string search to make path retrieval more simple and convenient.\n",
        "import string\n",
        "#What is string module\n",
        "import pandas as pd\n",
        "import numpy as np\n",
        "import matplotlib.pyplot as plt\n",
        "from sklearn.model_selection import train_test_split\n",
        "from tensorflow.keras import applications\n",
        "#What is above line of code\n",
        "import keras\n",
        "#Keras is a powerful and easy-to-use free open source Python library for developing and evaluating deep learning models.\n",
        "#Keras is a deep learning API written in Python, running on top of the machine learning platform TensorFlow\n",
        "from tensorflow.keras.layers import Dense, Activation, Flatten, Conv2D, MaxPooling2D\n",
        "from tensorflow.keras.layers import Dropout\n",
        "from tensorflow.keras.losses import categorical_crossentropy\n",
        "from tensorflow.keras.models import Sequential\n",
        "from tensorflow.keras.utils import to_categorical\n",
        "from tensorflow.keras.optimizers import Adam\n",
        "from sklearn.metrics import confusion_matrix\n",
        "import seaborn as sn\n",
        "import shutil\n",
        "#The shutil module helps you automate copying files and directories. \n",
        "#This saves the steps of opening, reading, writing and closing files when there is no actual processing. \n",
        "#It comes under Python’s standard utility modules. This module helps in automating process of copying and removal of files and directories.\n",
        "import random\n",
        "#Using random module we can generate random numbers and data\n",
        "import cv2\n",
        "#OpenCV is the huge open-source library for computer vision, machine learning, and image processing\n",
        "#and now it plays a major role in real-time operation which is very important in today’s systems. \n",
        "#By using it, one can process images and videos to identify objects, faces, or even the handwriting of a human.\n",
        "#OpenCV releases two types of Python interfaces, cv and cv2 . latest one is cv2 . This will give you an idea whether you have installed opencv correctly."
      ],
      "execution_count": null,
      "outputs": []
    },
    {
      "cell_type": "markdown",
      "metadata": {
        "id": "z7HWp9L5bj9L"
      },
      "source": [
        "PIL- \n",
        "Python Imaging Library is a free and open-source additional library for the Python programming language that adds support for opening, manipulating, and saving many different image file formats.\n",
        "Pillow library for python:\n",
        "Pillow allows us to work with and manipulate images using python\n"
      ]
    },
    {
      "cell_type": "code",
      "metadata": {
        "id": "FYppsDA0Ja93"
      },
      "source": [
        "#Creation of a CNN . Sequential Model\n",
        "\n",
        "model = Sequential()\n",
        "#input_shape matches our input image\n",
        "model.add(Conv2D(64, (3,3), input_shape=(224, 224, 3), activation = 'relu'))\n",
        "model.add(MaxPooling2D(pool_size=(2,2)))\n",
        "model.add(Conv2D(64, (3,3), activation = 'relu'))\n",
        "model.add(MaxPooling2D(pool_size=(2,2)))\n",
        "model.add(Conv2D(64, (3,3), activation = 'relu'))\n",
        "model.add(MaxPooling2D(pool_size=(2,2)))\n",
        "model.add(Conv2D(64, (3,3), activation = 'relu'))\n",
        "model.add(MaxPooling2D(pool_size=(2,2)))\n",
        "model.add(Dropout(0.2))\n",
        "model.add(Flatten())\n",
        "model.add(Dense(64))\n",
        "model.add(Dense(4)) #data of four types\n",
        "model.add(Activation('softmax'))\n",
        "\n",
        "model.compile(loss= keras.losses.categorical_crossentropy, \n",
        "              optimizer= Adam(),metrics=['accuracy'])"
      ],
      "execution_count": null,
      "outputs": []
    },
    {
      "cell_type": "code",
      "metadata": {
        "colab": {
          "base_uri": "https://localhost:8080/"
        },
        "id": "aZe3zbo6Jrk2",
        "outputId": "6c4a5d4d-7e4f-4492-f309-1daba3e68697"
      },
      "source": [
        "model.summary()"
      ],
      "execution_count": null,
      "outputs": [
        {
          "output_type": "stream",
          "text": [
            "Model: \"sequential\"\n",
            "_________________________________________________________________\n",
            "Layer (type)                 Output Shape              Param #   \n",
            "=================================================================\n",
            "conv2d (Conv2D)              (None, 222, 222, 64)      1792      \n",
            "_________________________________________________________________\n",
            "max_pooling2d (MaxPooling2D) (None, 111, 111, 64)      0         \n",
            "_________________________________________________________________\n",
            "conv2d_1 (Conv2D)            (None, 109, 109, 64)      36928     \n",
            "_________________________________________________________________\n",
            "max_pooling2d_1 (MaxPooling2 (None, 54, 54, 64)        0         \n",
            "_________________________________________________________________\n",
            "conv2d_2 (Conv2D)            (None, 52, 52, 64)        36928     \n",
            "_________________________________________________________________\n",
            "max_pooling2d_2 (MaxPooling2 (None, 26, 26, 64)        0         \n",
            "_________________________________________________________________\n",
            "conv2d_3 (Conv2D)            (None, 24, 24, 64)        36928     \n",
            "_________________________________________________________________\n",
            "max_pooling2d_3 (MaxPooling2 (None, 12, 12, 64)        0         \n",
            "_________________________________________________________________\n",
            "dropout (Dropout)            (None, 12, 12, 64)        0         \n",
            "_________________________________________________________________\n",
            "flatten (Flatten)            (None, 9216)              0         \n",
            "_________________________________________________________________\n",
            "dense (Dense)                (None, 64)                589888    \n",
            "_________________________________________________________________\n",
            "dense_1 (Dense)              (None, 4)                 260       \n",
            "_________________________________________________________________\n",
            "activation (Activation)      (None, 4)                 0         \n",
            "=================================================================\n",
            "Total params: 702,724\n",
            "Trainable params: 702,724\n",
            "Non-trainable params: 0\n",
            "_________________________________________________________________\n"
          ],
          "name": "stdout"
        }
      ]
    },
    {
      "cell_type": "code",
      "metadata": {
        "id": "DfeX55dRJyHf"
      },
      "source": [
        "from tensorflow.keras.preprocessing.image import ImageDataGenerator\n",
        "#Image augmentation is a technique of applying different transformations to original images which results in multiple transformed copies of the same image. \n",
        "#Each copy, however, is different from the other in certain aspects depending on the augmentation techniques you apply like shifting, rotating, flipping, etc.\n",
        "#Keras ImageDataGenerator class provides a quick and easy way to augment your images. \n",
        "#It provides a host of different augmentation techniques like standardization, rotation, shifts, flips, brightness change, and many more.\n",
        "\n",
        "train_datagen = ImageDataGenerator(\n",
        "        \n",
        "        rotation_range=90, \n",
        "        zoom_range = 0.1, \n",
        "        width_shift_range=0.1,  \n",
        "        height_shift_range=0.1,  \n",
        "        horizontal_flip=True,  \n",
        "        vertical_flip=True,\n",
        "        rescale = 1./255,\n",
        "        validation_split = 0.2\n",
        "        )\n",
        "#Properties of ImageDataGenerator"
      ],
      "execution_count": null,
      "outputs": []
    },
    {
      "cell_type": "code",
      "metadata": {
        "id": "PEnLC14WJ89c"
      },
      "source": [
        "test_datagen = ImageDataGenerator(rescale = 1./255 )\n",
        "#The ImageDataGenerator class can be used to rescale pixel values from the range of 0-255 to the range 0-1 preferred for neural network models.\n",
        "#Scaling data to the range of 0-1 is traditionally referred to as normalization.\n",
        "#What does rescale 1/255 in ImageDataGenerator do?\n",
        "#Rescale 1./255 is to transform every pixel value from range [0,255] -> [0,1]. \n",
        "#And the benefits are: Treat all images in the same manner: some images are high pixel range, some are low pixel range.\n",
        "#Scaling every images to the same range [0,1] will make images contributes more evenly to the total loss.\n",
        "\n"
      ],
      "execution_count": null,
      "outputs": []
    },
    {
      "cell_type": "code",
      "metadata": {
        "id": "p21VNsSLKDFK"
      },
      "source": [
        "# import os\n",
        "# for dirname, _, filenames in os.walk('/kaggle/input'):\n",
        "#     for filename in filenames:\n",
        "#         print(os.path.join(dirname, filename))"
      ],
      "execution_count": null,
      "outputs": []
    },
    {
      "cell_type": "code",
      "metadata": {
        "id": "zs3Xx6dZKNfz"
      },
      "source": [
        "train_path = '/content/drive/My Drive/dataset/training'\n",
        "test_path = '/content/drive/My Drive/dataset/testing'"
      ],
      "execution_count": null,
      "outputs": []
    },
    {
      "cell_type": "code",
      "metadata": {
        "colab": {
          "base_uri": "https://localhost:8080/"
        },
        "id": "Wa_FmL9XKTqp",
        "outputId": "a68ef0da-ecd3-44b9-e8c9-56748036db77"
      },
      "source": [
        " # Make sure you provide the same target size as initialied for the image size\n",
        "training_set = train_datagen.flow_from_directory(train_path,\n",
        "                                            target_size = (224, 224),\n",
        "                                            batch_size = 32,\n",
        "                                            class_mode = 'categorical',\n",
        "                                            subset = 'training',\n",
        "                                            shuffle = True)\n",
        "#What is target_size and batch_size "
      ],
      "execution_count": null,
      "outputs": [
        {
          "output_type": "stream",
          "text": [
            "Found 4876 images belonging to 4 classes.\n"
          ],
          "name": "stdout"
        }
      ]
    },
    {
      "cell_type": "code",
      "metadata": {
        "colab": {
          "base_uri": "https://localhost:8080/"
        },
        "id": "OEWnivKXKYlP",
        "outputId": "49f6c34a-9cd7-4788-900f-11b9efe137b2"
      },
      "source": [
        "val_set = train_datagen.flow_from_directory(train_path,\n",
        "                                            target_size = (224, 224),\n",
        "                                            batch_size = 32,\n",
        "                                            class_mode = 'categorical',\n",
        "                                            subset = 'validation',\n",
        "                                            shuffle = True)"
      ],
      "execution_count": null,
      "outputs": [
        {
          "output_type": "stream",
          "text": [
            "Found 1216 images belonging to 4 classes.\n"
          ],
          "name": "stdout"
        }
      ]
    },
    {
      "cell_type": "code",
      "metadata": {
        "colab": {
          "base_uri": "https://localhost:8080/"
        },
        "id": "J0I21Sz_CBnc",
        "outputId": "48517f7c-5e5a-459d-c269-882599886ae6"
      },
      "source": [
        "test_set = test_datagen.flow_from_directory(test_path,\n",
        "                                            target_size = (224, 224),\n",
        "                                            batch_size = 32,\n",
        "                                            class_mode = 'categorical',\n",
        "                                            shuffle = True)"
      ],
      "execution_count": null,
      "outputs": [
        {
          "output_type": "stream",
          "text": [
            "Found 1524 images belonging to 4 classes.\n"
          ],
          "name": "stdout"
        }
      ]
    },
    {
      "cell_type": "code",
      "metadata": {
        "colab": {
          "background_save": true,
          "base_uri": "https://localhost:8080/"
        },
        "id": "g-bPqAprCHZ9",
        "outputId": "c9e5d01f-8c95-4dc5-c19d-fdedfce70fcb"
      },
      "source": [
        "history = model.fit(\n",
        "  training_set,\n",
        "  validation_data= val_set,\n",
        "  epochs= 3,\n",
        "  shuffle = True,\n",
        "  steps_per_epoch=len(training_set),\n",
        "  validation_steps=len(val_set)\n",
        "  \n",
        ")"
      ],
      "execution_count": null,
      "outputs": [
        {
          "output_type": "stream",
          "text": [
            "Epoch 1/3\n",
            "153/153 [==============================] - 2405s 16s/step - loss: 1.3703 - accuracy: 0.2984 - val_loss: 1.1594 - val_accuracy: 0.4416\n",
            "Epoch 2/3\n",
            "153/153 [==============================] - 546s 4s/step - loss: 1.1528 - accuracy: 0.4878 - val_loss: 0.9156 - val_accuracy: 0.6414\n",
            "Epoch 3/3\n",
            "153/153 [==============================] - 539s 4s/step - loss: 0.9938 - accuracy: 0.5718 - val_loss: 0.6355 - val_accuracy: 0.7574\n"
          ],
          "name": "stdout"
        }
      ]
    },
    {
      "cell_type": "code",
      "metadata": {
        "colab": {
          "background_save": true
        },
        "id": "1_42n3-vCPf_",
        "outputId": "fa5f06da-1fe4-4a89-9ef3-75a606e5b1af"
      },
      "source": [
        "model.evaluate(test_set)"
      ],
      "execution_count": null,
      "outputs": [
        {
          "output_type": "stream",
          "text": [
            "48/48 [==============================] - 339s 7s/step - loss: 0.7585 - accuracy: 0.7021\n"
          ],
          "name": "stdout"
        },
        {
          "output_type": "execute_result",
          "data": {
            "text/plain": [
              "[0.7585200071334839, 0.7020997405052185]"
            ]
          },
          "metadata": {
            "tags": []
          },
          "execution_count": 0
        }
      ]
    },
    {
      "cell_type": "code",
      "metadata": {
        "colab": {
          "background_save": true
        },
        "id": "SNaRWXLpDYln"
      },
      "source": [
        "model.save('mech2.h5')"
      ],
      "execution_count": null,
      "outputs": []
    },
    {
      "cell_type": "code",
      "metadata": {
        "colab": {
          "background_save": true
        },
        "id": "s6_LFZ3XYuiR"
      },
      "source": [
        "#history.history"
      ],
      "execution_count": null,
      "outputs": []
    },
    {
      "cell_type": "code",
      "metadata": {
        "colab": {
          "background_save": true
        },
        "id": "R7_bC12jY1TU",
        "outputId": "bf7816e1-e5f2-44a8-90f5-bfc75f7ca9c4"
      },
      "source": [
        "# Get training and test loss histories\n",
        "loss_train = history.history['loss']\n",
        "loss_val = history.history['val_loss']\n",
        "#epochs = range(1,no_epochs+1)\n",
        "plt.plot( loss_train, 'g', label='Training loss')\n",
        "plt.plot( loss_val, 'b', label='validation loss')\n",
        "plt.title('Training and Validation loss')\n",
        "plt.xlabel('Epochs')\n",
        "plt.ylabel('Loss')\n",
        "plt.legend()\n",
        "plt.show()\n",
        "plt.savefig('train-val loss')\n",
        "#One of the default callbacks that is registered when training all deep learning models is the History callback. \n",
        "#It records training metrics for each epoch. \n",
        "#This includes the loss and the accuracy (for classification problems) as well as the loss and accuracy for the validation dataset, if one is set.\n",
        "\n",
        "\n"
      ],
      "execution_count": null,
      "outputs": [
        {
          "output_type": "display_data",
          "data": {
            "image/png": "[encoded data removed]",
            "text/plain": [
              "<Figure size 432x288 with 1 Axes>"
            ]
          },
          "metadata": {
            "tags": []
          }
        },
        {
          "output_type": "display_data",
          "data": {
            "text/plain": [
              "<Figure size 432x288 with 0 Axes>"
            ]
          },
          "metadata": {
            "tags": []
          }
        }
      ]
    },
    {
      "cell_type": "code",
      "metadata": {
        "colab": {
          "background_save": true
        },
        "id": "EyAtEv-dY7q4",
        "outputId": "beac9d33-94bb-43b9-b6b1-cefd1b376905"
      },
      "source": [
        "loss_train = history.history['accuracy']\n",
        "loss_val = history.history['val_accuracy']\n",
        "#epochs = range(1,no_epochs+1)\n",
        "plt.plot( loss_train, 'g', label='Training Accuracy')\n",
        "plt.plot( loss_val, 'b', label='validation Accuracy')\n",
        "plt.title('Training and Validation accuracy')\n",
        "plt.xlabel('Epochs')\n",
        "plt.ylabel('Accuracy')\n",
        "plt.legend()\n",
        "plt.show()\n",
        "plt.savefig('train-val-accuracy')"
      ],
      "execution_count": null,
      "outputs": [
        {
          "output_type": "display_data",
          "data": {
            "image/png": "[encoded data removed]",
            "text/plain": [
              "<Figure size 432x288 with 1 Axes>"
            ]
          },
          "metadata": {
            "tags": []
          }
        },
        {
          "output_type": "display_data",
          "data": {
            "text/plain": [
              "<Figure size 432x288 with 0 Axes>"
            ]
          },
          "metadata": {
            "tags": []
          }
        }
      ]
    },
    {
      "cell_type": "code",
      "metadata": {
        "colab": {
          "background_save": true
        },
        "id": "ViUwExYFZEkD"
      },
      "source": [
        "#Prediction"
      ],
      "execution_count": null,
      "outputs": []
    },
    {
      "cell_type": "code",
      "metadata": {
        "colab": {
          "background_save": true
        },
        "id": "Ba9xXxkwZKCr"
      },
      "source": [
        "#Load the model \n",
        "\n",
        "from tensorflow.keras.models import load_model\n",
        "from tensorflow.keras.preprocessing import image\n",
        "import numpy as np\n",
        "\n",
        "#Loading our Model\n",
        "model = load_model('./mech2.h5')"
      ],
      "execution_count": null,
      "outputs": []
    },
    {
      "cell_type": "code",
      "metadata": {
        "colab": {
          "base_uri": "https://localhost:8080/",
          "height": 352
        },
        "id": "xGuDUiLGZdB8",
        "outputId": "635fedf5-3bff-45f3-c0c8-8c67e3f38ce7"
      },
      "source": [
        "import os \n",
        "import random \n",
        "import cv2\n",
        "import matplotlib.pyplot as plt\n",
        "import glob\n",
        "%matplotlib inline \n",
        "\n",
        "test_path = '/content/drive/My Drive/dataset/testing/*'\n",
        "list = glob.glob(test_path )\n",
        "print(list)\n",
        "\n",
        "path =  random.choice(list) \n",
        "pic = random.choice(glob.glob(path + '/*'))\n",
        "print(pic)\n",
        "\n",
        "pict =  cv2.imread(pic)\n",
        "plt.imshow(pict)\n",
        "plt.title(pic)"
      ],
      "execution_count": null,
      "outputs": [
        {
          "output_type": "stream",
          "text": [
            "['/content/drive/My Drive/dataset/testing/nut', '/content/drive/My Drive/dataset/testing/bolt', '/content/drive/My Drive/dataset/testing/washer', '/content/drive/My Drive/dataset/testing/locatingpin']\n",
            "/content/drive/My Drive/dataset/testing/bolt/MSB4-45_9.png\n"
          ],
          "name": "stdout"
        },
        {
          "output_type": "execute_result",
          "data": {
            "text/plain": [
              "Text(0.5, 1.0, '/content/drive/My Drive/dataset/testing/bolt/MSB4-45_9.png')"
            ]
          },
          "metadata": {
            "tags": []
          },
          "execution_count": 21
        },
        {
          "output_type": "display_data",
          "data": {
            "image/png": "[encoded data removed]",
            "text/plain": [
              "<Figure size 432x288 with 1 Axes>"
            ]
          },
          "metadata": {
            "tags": []
          }
        }
      ]
    },
    {
      "cell_type": "code",
      "metadata": {
        "colab": {
          "base_uri": "https://localhost:8080/"
        },
        "id": "XHKwkjvXZ2ys",
        "outputId": "7bba1d51-c7e7-412b-d618-c44a97515b37"
      },
      "source": [
        "img=image.load_img(pic,target_size=(224,224))\n",
        "x=image.img_to_array(img)\n",
        "x"
      ],
      "execution_count": null,
      "outputs": [
        {
          "output_type": "execute_result",
          "data": {
            "text/plain": [
              "array([[[255., 255., 255.],\n",
              "        [255., 255., 255.],\n",
              "        [255., 255., 255.],\n",
              "        ...,\n",
              "        [255., 255., 255.],\n",
              "        [255., 255., 255.],\n",
              "        [255., 255., 255.]],\n",
              "\n",
              "       [[255., 255., 255.],\n",
              "        [255., 255., 255.],\n",
              "        [255., 255., 255.],\n",
              "        ...,\n",
              "        [255., 255., 255.],\n",
              "        [255., 255., 255.],\n",
              "        [255., 255., 255.]],\n",
              "\n",
              "       [[255., 255., 255.],\n",
              "        [255., 255., 255.],\n",
              "        [255., 255., 255.],\n",
              "        ...,\n",
              "        [255., 255., 255.],\n",
              "        [255., 255., 255.],\n",
              "        [255., 255., 255.]],\n",
              "\n",
              "       ...,\n",
              "\n",
              "       [[255., 255., 255.],\n",
              "        [255., 255., 255.],\n",
              "        [255., 255., 255.],\n",
              "        ...,\n",
              "        [255., 255., 255.],\n",
              "        [255., 255., 255.],\n",
              "        [255., 255., 255.]],\n",
              "\n",
              "       [[255., 255., 255.],\n",
              "        [255., 255., 255.],\n",
              "        [255., 255., 255.],\n",
              "        ...,\n",
              "        [255., 255., 255.],\n",
              "        [255., 255., 255.],\n",
              "        [255., 255., 255.]],\n",
              "\n",
              "       [[255., 255., 255.],\n",
              "        [255., 255., 255.],\n",
              "        [255., 255., 255.],\n",
              "        ...,\n",
              "        [255., 255., 255.],\n",
              "        [255., 255., 255.],\n",
              "        [255., 255., 255.]]], dtype=float32)"
            ]
          },
          "metadata": {
            "tags": []
          },
          "execution_count": 22
        }
      ]
    },
    {
      "cell_type": "code",
      "metadata": {
        "colab": {
          "base_uri": "https://localhost:8080/"
        },
        "id": "wQqS0ZwWZ8lo",
        "outputId": "18369a67-959a-42bf-c47e-56e65868e76b"
      },
      "source": [
        "x=x/255\n",
        "print(x)"
      ],
      "execution_count": null,
      "outputs": [
        {
          "output_type": "stream",
          "text": [
            "[[[1. 1. 1.]\n",
            "  [1. 1. 1.]\n",
            "  [1. 1. 1.]\n",
            "  ...\n",
            "  [1. 1. 1.]\n",
            "  [1. 1. 1.]\n",
            "  [1. 1. 1.]]\n",
            "\n",
            " [[1. 1. 1.]\n",
            "  [1. 1. 1.]\n",
            "  [1. 1. 1.]\n",
            "  ...\n",
            "  [1. 1. 1.]\n",
            "  [1. 1. 1.]\n",
            "  [1. 1. 1.]]\n",
            "\n",
            " [[1. 1. 1.]\n",
            "  [1. 1. 1.]\n",
            "  [1. 1. 1.]\n",
            "  ...\n",
            "  [1. 1. 1.]\n",
            "  [1. 1. 1.]\n",
            "  [1. 1. 1.]]\n",
            "\n",
            " ...\n",
            "\n",
            " [[1. 1. 1.]\n",
            "  [1. 1. 1.]\n",
            "  [1. 1. 1.]\n",
            "  ...\n",
            "  [1. 1. 1.]\n",
            "  [1. 1. 1.]\n",
            "  [1. 1. 1.]]\n",
            "\n",
            " [[1. 1. 1.]\n",
            "  [1. 1. 1.]\n",
            "  [1. 1. 1.]\n",
            "  ...\n",
            "  [1. 1. 1.]\n",
            "  [1. 1. 1.]\n",
            "  [1. 1. 1.]]\n",
            "\n",
            " [[1. 1. 1.]\n",
            "  [1. 1. 1.]\n",
            "  [1. 1. 1.]\n",
            "  ...\n",
            "  [1. 1. 1.]\n",
            "  [1. 1. 1.]\n",
            "  [1. 1. 1.]]]\n"
          ],
          "name": "stdout"
        }
      ]
    },
    {
      "cell_type": "code",
      "metadata": {
        "colab": {
          "base_uri": "https://localhost:8080/"
        },
        "id": "N4A7f56QaCHQ",
        "outputId": "99d5b177-240f-450b-d459-363f8b88868d"
      },
      "source": [
        "x.shape"
      ],
      "execution_count": null,
      "outputs": [
        {
          "output_type": "execute_result",
          "data": {
            "text/plain": [
              "(224, 224, 3)"
            ]
          },
          "metadata": {
            "tags": []
          },
          "execution_count": 24
        }
      ]
    },
    {
      "cell_type": "code",
      "metadata": {
        "colab": {
          "base_uri": "https://localhost:8080/"
        },
        "id": "n7nwpXKjaGqH",
        "outputId": "f8e81d83-fd4c-40a8-fd2b-29bde46bb84a"
      },
      "source": [
        "x=np.expand_dims(x,axis=0)\n",
        "x.shape"
      ],
      "execution_count": null,
      "outputs": [
        {
          "output_type": "execute_result",
          "data": {
            "text/plain": [
              "(1, 224, 224, 3)"
            ]
          },
          "metadata": {
            "tags": []
          },
          "execution_count": 25
        }
      ]
    },
    {
      "cell_type": "code",
      "metadata": {
        "colab": {
          "base_uri": "https://localhost:8080/"
        },
        "id": "roKi9S-XaMaM",
        "outputId": "4d2f1ec8-8273-4852-c40f-9d0bb357b8ab"
      },
      "source": [
        "model.predict(x)"
      ],
      "execution_count": null,
      "outputs": [
        {
          "output_type": "execute_result",
          "data": {
            "text/plain": [
              "array([[7.1674448e-01, 2.8084576e-01, 2.0010578e-03, 4.0872197e-04]],\n",
              "      dtype=float32)"
            ]
          },
          "metadata": {
            "tags": []
          },
          "execution_count": 26
        }
      ]
    },
    {
      "cell_type": "code",
      "metadata": {
        "id": "HYYxYw9taQqc"
      },
      "source": [
        "a=np.argmax(model.predict(x))"
      ],
      "execution_count": null,
      "outputs": []
    },
    {
      "cell_type": "code",
      "metadata": {
        "colab": {
          "base_uri": "https://localhost:8080/"
        },
        "id": "e90hbz1QaXSn",
        "outputId": "1a43095d-47c2-4c9a-847c-b1671a77cfb3"
      },
      "source": [
        "a"
      ],
      "execution_count": null,
      "outputs": [
        {
          "output_type": "execute_result",
          "data": {
            "text/plain": [
              "0"
            ]
          },
          "metadata": {
            "tags": []
          },
          "execution_count": 28
        }
      ]
    },
    {
      "cell_type": "code",
      "metadata": {
        "colab": {
          "base_uri": "https://localhost:8080/",
          "height": 281
        },
        "id": "bsFCLWpuaalS",
        "outputId": "3595e856-776e-4837-cb47-96f2845dda9b"
      },
      "source": [
        "if(a==0):\n",
        "    plt.imshow(img)\n",
        "    plt.title('Bolt')\n",
        "elif(a == 1):\n",
        "    plt.imshow(img)\n",
        "    plt.title('Locating Pin')\n",
        "    \n",
        "elif(a==2):\n",
        "    plt.imshow(img)\n",
        "    plt.title('Nut')\n",
        "\n",
        "elif(a==3):\n",
        "    plt.imshow(img)\n",
        "    plt.title('Washer')"
      ],
      "execution_count": null,
      "outputs": [
        {
          "output_type": "display_data",
          "data": {
            "image/png": "[encoded data removed]",
            "text/plain": [
              "<Figure size 432x288 with 1 Axes>"
            ]
          },
          "metadata": {
            "tags": []
          }
        }
      ]
    },
    {
      "cell_type": "code",
      "metadata": {
        "id": "fe6fnuLTagA7"
      },
      "source": [
        ""
      ],
      "execution_count": null,
      "outputs": []
    }
  ]
}